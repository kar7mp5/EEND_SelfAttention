{
 "cells": [
  {
   "cell_type": "code",
   "execution_count": null,
   "metadata": {},
   "outputs": [],
   "source": [
    "from pydub import AudioSegment\n",
    "\n",
    "\n",
    "def merge_audio(files, output_path, format=\"wav\"):\n",
    "    \"\"\"\n",
    "    Merges multiple audio files into one.\n",
    "    \n",
    "    Args:\n",
    "        files (list of str): List of audio file paths to merge.\n",
    "        output_path (str): Path for the output merged audio file.\n",
    "        format (str): Output format (e.g., 'mp3', 'wav', 'ogg').\n",
    "    \"\"\"\n",
    "    if not files:\n",
    "        raise ValueError(\"No audio files provided for merging.\")\n",
    "\n",
    "    # Load the first file\n",
    "    combined_audio = AudioSegment.from_file(files[0])\n",
    "\n",
    "    # Append the rest of the files\n",
    "    for file in files[1:]:\n",
    "        next_audio = AudioSegment.from_file(file)\n",
    "        combined_audio += next_audio  # Concatenation\n",
    "\n",
    "    # Export merged audio\n",
    "    combined_audio.export(output_path, format=format)\n",
    "    print(f\"Merged audio saved as {output_path}\")\n",
    "\n",
    "\n",
    "audio_files = [\"audio1.wav\", \"audio2.wav\"]\n",
    "merge_audio(audio_files, \"merged_audio.mp3\")"
   ]
  }
 ],
 "metadata": {
  "kernelspec": {
   "display_name": "venv",
   "language": "python",
   "name": "python3"
  },
  "language_info": {
   "name": "python",
   "version": "3.10.12"
  }
 },
 "nbformat": 4,
 "nbformat_minor": 2
}
